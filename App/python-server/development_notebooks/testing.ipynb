{
 "cells": [
  {
   "cell_type": "code",
   "execution_count": null,
   "id": "7172e236",
   "metadata": {},
   "outputs": [],
   "source": [
    "# Add the parent directory to the Python path\n",
    "import os\n",
    "import sys\n",
    "sys.path.append(os.path.abspath('..'))\n",
    "\n",
    "# Import everything from secrets.py\n",
    "from config.secrets import *\n",
    "# Import everything from porssisahko_tools.py\n",
    "from utils.porssisahko_tools import *"
   ]
  },
  {
   "cell_type": "markdown",
   "id": "693f5941",
   "metadata": {},
   "source": [
    "### Testing porssisahko_tools\n",
    "\n",
    "You need to have the database container running in order to test it. And ideally you'd just run the entire project, so that the database is actually populated and up-to-date."
   ]
  },
  {
   "cell_type": "code",
   "execution_count": null,
   "id": "4130440d",
   "metadata": {},
   "outputs": [],
   "source": []
  }
 ],
 "metadata": {
  "kernelspec": {
   "display_name": ".venv",
   "language": "python",
   "name": "python3"
  },
  "language_info": {
   "codemirror_mode": {
    "name": "ipython",
    "version": 3
   },
   "file_extension": ".py",
   "mimetype": "text/x-python",
   "name": "python",
   "nbconvert_exporter": "python",
   "pygments_lexer": "ipython3",
   "version": "3.13.1"
  }
 },
 "nbformat": 4,
 "nbformat_minor": 5
}
