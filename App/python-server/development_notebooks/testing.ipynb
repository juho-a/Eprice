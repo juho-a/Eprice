{
 "cells": [
  {
   "cell_type": "code",
   "execution_count": null,
   "id": "7172e236",
   "metadata": {},
   "outputs": [],
   "source": [
    "# Add the parent directory to the Python path\n",
    "import os\n",
    "import sys\n",
    "sys.path.append(os.path.abspath('..'))\n",
    "\n",
    "# Import everything from secrets.py\n",
    "from config.secrets import *\n",
    "# Import everything from porssisahko_tools.py\n",
    "from utils.porssisahko_tools import *"
   ]
  },
  {
   "cell_type": "code",
   "execution_count": null,
   "id": "693f5941",
   "metadata": {},
   "outputs": [],
   "source": []
  }
 ],
 "metadata": {
  "kernelspec": {
   "display_name": ".venv",
   "language": "python",
   "name": "python3"
  },
  "language_info": {
   "codemirror_mode": {
    "name": "ipython",
    "version": 3
   },
   "file_extension": ".py",
   "mimetype": "text/x-python",
   "name": "python",
   "nbconvert_exporter": "python",
   "pygments_lexer": "ipython3",
   "version": "3.13.1"
  }
 },
 "nbformat": 4,
 "nbformat_minor": 5
}
