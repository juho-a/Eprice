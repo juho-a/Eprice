{
 "cells": [
  {
   "cell_type": "code",
   "execution_count": 33,
   "id": "73f10a67",
   "metadata": {},
   "outputs": [],
   "source": [
    "import json\n",
    "import sys\n",
    "sys.path.append(\"../\")\n",
    "from utils.db_calls import save_code_to_db, save_documents_to_db, save_code_to_db\n",
    "from format_documents import filter_files_by_extension, format_all_docs_json, format_documents_json\n",
    "\n",
    "from format_code import load_code_data, format_code_chunks\n",
    "from langchain_core.documents import Document  # if you want Document objects\n",
    "from langchain_text_splitters import RecursiveCharacterTextSplitter, MarkdownHeaderTextSplitter\n",
    "from langchain_huggingface.embeddings import HuggingFaceEmbeddings\n",
    "\n",
    "from transformers import AutoModel, AutoTokenizer\n",
    "import torch"
   ]
  },
  {
   "cell_type": "code",
   "execution_count": 21,
   "id": "e67fb1c1",
   "metadata": {},
   "outputs": [],
   "source": [
    "# Load your file_dict from file or previous step\n",
    "with open(\"../data/project_files.txt\", \"r\") as f:\n",
    "    file_dict = json.load(f)\n",
    "\n",
    "# Filter files\n",
    "filtered_files = filter_files_by_extension(file_dict)\n",
    "\n",
    "# Format for all docs (complete files)\n",
    "all_docs_json = format_all_docs_json(file_dict)\n",
    "\n",
    "# Format for documents (for embedding/splitting)\n",
    "documents_json = format_documents_json(filtered_files)\n",
    "\n",
    "# Load code data\n",
    "code_data = load_code_data(\"../data/backend_code.txt\")"
   ]
  },
  {
   "cell_type": "code",
   "execution_count": null,
   "id": "6a0ba010",
   "metadata": {},
   "outputs": [],
   "source": [
    "# NOTE: These can be used for retrieval as tool calls\n",
    "#save_files_to_db(all_docs_json)\n",
    "#save_documents_to_db(all_documents, embedding_model)\n",
    "#save_code_to_db(code_data, embedding_model)"
   ]
  },
  {
   "cell_type": "code",
   "execution_count": null,
   "id": "3f1fd5a4",
   "metadata": {},
   "outputs": [],
   "source": [
    "# Load the model\n",
    "model_name = \"BAAI/bge-small-en\" # \"BAAI/bge-large-en-v1.5\"\n",
    "model = AutoModel.from_pretrained(model_name)\n",
    "tokenizer = AutoTokenizer.from_pretrained(model_name)\n",
    "# Create the embeddings object\n",
    "embedding_model = HuggingFaceEmbeddings(\n",
    "    model_name=model_name,\n",
    "    model_kwargs={\"device\": \"cuda\" if torch.cuda.is_available() else \"cpu\"},\n",
    "    encode_kwargs={\"normalize_embeddings\": True},\n",
    ")"
   ]
  },
  {
   "cell_type": "code",
   "execution_count": 34,
   "id": "8f1506ed",
   "metadata": {},
   "outputs": [],
   "source": [
    "# define text splitters\n",
    "headers_to_split_on = [\n",
    "    (\"#\", \"Heading 1\"),\n",
    "    (\"##\", \"Sub heading\"),\n",
    "    (\"###\", \"Sub-sub heading\"),\n",
    "]\n",
    "\n",
    "# Initialize the Markdown splitter\n",
    "markdown_splitter = MarkdownHeaderTextSplitter(headers_to_split_on=headers_to_split_on)\n",
    "text_splitter = RecursiveCharacterTextSplitter.from_huggingface_tokenizer(\n",
    "    tokenizer,\n",
    "    chunk_size=512,\n",
    "    chunk_overlap=50,\n",
    ")"
   ]
  },
  {
   "cell_type": "code",
   "execution_count": 29,
   "id": "9590d143",
   "metadata": {},
   "outputs": [],
   "source": [
    "# Format code chunks (returns list of (Document, embedding) tuples)\n",
    "code_chunks = format_code_chunks(\n",
    "    code_data,\n",
    "    text_splitter,           # your text splitter instance\n",
    "    embedding_model,         # your embedding model\n",
    "    doc_class=Document       # optional, for langchain Document objects\n",
    ")\n",
    "\n",
    "# Unpack if needed\n",
    "code_documents = [doc for doc, _ in code_chunks]\n",
    "code_embeddings = [emb for _, emb in code_chunks]"
   ]
  },
  {
   "cell_type": "code",
   "execution_count": null,
   "id": "31e7f1ff",
   "metadata": {},
   "outputs": [],
   "source": [
    "# The code and documents can be saved to the database for retrieval\n",
    "# but it requires some additional parsing to match the format"
   ]
  },
  {
   "cell_type": "code",
   "execution_count": null,
   "id": "c3e531be",
   "metadata": {},
   "outputs": [],
   "source": []
  }
 ],
 "metadata": {
  "kernelspec": {
   "display_name": ".venv",
   "language": "python",
   "name": "python3"
  },
  "language_info": {
   "codemirror_mode": {
    "name": "ipython",
    "version": 3
   },
   "file_extension": ".py",
   "mimetype": "text/x-python",
   "name": "python",
   "nbconvert_exporter": "python",
   "pygments_lexer": "ipython3",
   "version": "3.11.6"
  }
 },
 "nbformat": 4,
 "nbformat_minor": 5
}
